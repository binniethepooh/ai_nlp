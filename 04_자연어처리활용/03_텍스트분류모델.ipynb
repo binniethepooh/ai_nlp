{
 "cells": [
  {
   "cell_type": "markdown",
   "metadata": {},
   "source": [
    "## LSTM 사용 Text 분류 모델 구현\n",
    ": Keras의 Embedding,LSTM,Dropout 계층 사용"
   ]
  },
  {
   "cell_type": "code",
   "execution_count": 1,
   "metadata": {},
   "outputs": [],
   "source": [
    "import pandas as pd\n",
    "import numpy as np\n",
    "import matplotlib.pyplot as plt\n",
    "import seaborn as sns\n",
    "from sklearn.model_selection import train_test_split\n",
    "from sklearn.preprocessing import LabelEncoder\n",
    "from tensorflow.keras.optimizers import RMSprop\n",
    "from tensorflow.keras.preprocessing.text import Tokenizer\n",
    "from tensorflow.keras.preprocessing import sequence\n",
    "from tensorflow.keras.utils import to_categorical\n",
    "from tensorflow.keras.callbacks import EarlyStopping\n",
    "import tensorflow as tf"
   ]
  },
  {
   "cell_type": "markdown",
   "metadata": {},
   "source": [
    "###  Spam and Ham 분류 테스트 데이터 셋 읽어오기"
   ]
  },
  {
   "cell_type": "code",
   "execution_count": 2,
   "metadata": {},
   "outputs": [
    {
     "name": "stdout",
     "output_type": "stream",
     "text": [
      "(5572, 5)\n",
      "Go until jurong point, crazy.. Available only in bugis n great world la e buffet... Cine there got amore wat... ham\n"
     ]
    },
    {
     "data": {
      "text/html": [
       "<div>\n",
       "<style scoped>\n",
       "    .dataframe tbody tr th:only-of-type {\n",
       "        vertical-align: middle;\n",
       "    }\n",
       "\n",
       "    .dataframe tbody tr th {\n",
       "        vertical-align: top;\n",
       "    }\n",
       "\n",
       "    .dataframe thead th {\n",
       "        text-align: right;\n",
       "    }\n",
       "</style>\n",
       "<table border=\"1\" class=\"dataframe\">\n",
       "  <thead>\n",
       "    <tr style=\"text-align: right;\">\n",
       "      <th></th>\n",
       "      <th>v1</th>\n",
       "      <th>v2</th>\n",
       "      <th>Unnamed: 2</th>\n",
       "      <th>Unnamed: 3</th>\n",
       "      <th>Unnamed: 4</th>\n",
       "    </tr>\n",
       "  </thead>\n",
       "  <tbody>\n",
       "    <tr>\n",
       "      <th>0</th>\n",
       "      <td>ham</td>\n",
       "      <td>Go until jurong point, crazy.. Available only ...</td>\n",
       "      <td>NaN</td>\n",
       "      <td>NaN</td>\n",
       "      <td>NaN</td>\n",
       "    </tr>\n",
       "    <tr>\n",
       "      <th>1</th>\n",
       "      <td>ham</td>\n",
       "      <td>Ok lar... Joking wif u oni...</td>\n",
       "      <td>NaN</td>\n",
       "      <td>NaN</td>\n",
       "      <td>NaN</td>\n",
       "    </tr>\n",
       "    <tr>\n",
       "      <th>2</th>\n",
       "      <td>spam</td>\n",
       "      <td>Free entry in 2 a wkly comp to win FA Cup fina...</td>\n",
       "      <td>NaN</td>\n",
       "      <td>NaN</td>\n",
       "      <td>NaN</td>\n",
       "    </tr>\n",
       "    <tr>\n",
       "      <th>3</th>\n",
       "      <td>ham</td>\n",
       "      <td>U dun say so early hor... U c already then say...</td>\n",
       "      <td>NaN</td>\n",
       "      <td>NaN</td>\n",
       "      <td>NaN</td>\n",
       "    </tr>\n",
       "    <tr>\n",
       "      <th>4</th>\n",
       "      <td>ham</td>\n",
       "      <td>Nah I don't think he goes to usf, he lives aro...</td>\n",
       "      <td>NaN</td>\n",
       "      <td>NaN</td>\n",
       "      <td>NaN</td>\n",
       "    </tr>\n",
       "    <tr>\n",
       "      <th>5</th>\n",
       "      <td>spam</td>\n",
       "      <td>FreeMsg Hey there darling it's been 3 week's n...</td>\n",
       "      <td>NaN</td>\n",
       "      <td>NaN</td>\n",
       "      <td>NaN</td>\n",
       "    </tr>\n",
       "    <tr>\n",
       "      <th>6</th>\n",
       "      <td>ham</td>\n",
       "      <td>Even my brother is not like to speak with me. ...</td>\n",
       "      <td>NaN</td>\n",
       "      <td>NaN</td>\n",
       "      <td>NaN</td>\n",
       "    </tr>\n",
       "    <tr>\n",
       "      <th>7</th>\n",
       "      <td>ham</td>\n",
       "      <td>As per your request 'Melle Melle (Oru Minnamin...</td>\n",
       "      <td>NaN</td>\n",
       "      <td>NaN</td>\n",
       "      <td>NaN</td>\n",
       "    </tr>\n",
       "    <tr>\n",
       "      <th>8</th>\n",
       "      <td>spam</td>\n",
       "      <td>WINNER!! As a valued network customer you have...</td>\n",
       "      <td>NaN</td>\n",
       "      <td>NaN</td>\n",
       "      <td>NaN</td>\n",
       "    </tr>\n",
       "    <tr>\n",
       "      <th>9</th>\n",
       "      <td>spam</td>\n",
       "      <td>Had your mobile 11 months or more? U R entitle...</td>\n",
       "      <td>NaN</td>\n",
       "      <td>NaN</td>\n",
       "      <td>NaN</td>\n",
       "    </tr>\n",
       "    <tr>\n",
       "      <th>10</th>\n",
       "      <td>ham</td>\n",
       "      <td>I'm gonna be home soon and i don't want to tal...</td>\n",
       "      <td>NaN</td>\n",
       "      <td>NaN</td>\n",
       "      <td>NaN</td>\n",
       "    </tr>\n",
       "    <tr>\n",
       "      <th>11</th>\n",
       "      <td>spam</td>\n",
       "      <td>SIX chances to win CASH! From 100 to 20,000 po...</td>\n",
       "      <td>NaN</td>\n",
       "      <td>NaN</td>\n",
       "      <td>NaN</td>\n",
       "    </tr>\n",
       "    <tr>\n",
       "      <th>12</th>\n",
       "      <td>spam</td>\n",
       "      <td>URGENT! You have won a 1 week FREE membership ...</td>\n",
       "      <td>NaN</td>\n",
       "      <td>NaN</td>\n",
       "      <td>NaN</td>\n",
       "    </tr>\n",
       "    <tr>\n",
       "      <th>13</th>\n",
       "      <td>ham</td>\n",
       "      <td>I've been searching for the right words to tha...</td>\n",
       "      <td>NaN</td>\n",
       "      <td>NaN</td>\n",
       "      <td>NaN</td>\n",
       "    </tr>\n",
       "    <tr>\n",
       "      <th>14</th>\n",
       "      <td>ham</td>\n",
       "      <td>I HAVE A DATE ON SUNDAY WITH WILL!!</td>\n",
       "      <td>NaN</td>\n",
       "      <td>NaN</td>\n",
       "      <td>NaN</td>\n",
       "    </tr>\n",
       "    <tr>\n",
       "      <th>15</th>\n",
       "      <td>spam</td>\n",
       "      <td>XXXMobileMovieClub: To use your credit, click ...</td>\n",
       "      <td>NaN</td>\n",
       "      <td>NaN</td>\n",
       "      <td>NaN</td>\n",
       "    </tr>\n",
       "    <tr>\n",
       "      <th>16</th>\n",
       "      <td>ham</td>\n",
       "      <td>Oh k...i'm watching here:)</td>\n",
       "      <td>NaN</td>\n",
       "      <td>NaN</td>\n",
       "      <td>NaN</td>\n",
       "    </tr>\n",
       "    <tr>\n",
       "      <th>17</th>\n",
       "      <td>ham</td>\n",
       "      <td>Eh u remember how 2 spell his name... Yes i di...</td>\n",
       "      <td>NaN</td>\n",
       "      <td>NaN</td>\n",
       "      <td>NaN</td>\n",
       "    </tr>\n",
       "    <tr>\n",
       "      <th>18</th>\n",
       "      <td>ham</td>\n",
       "      <td>Fine if thatåÕs the way u feel. ThatåÕs the wa...</td>\n",
       "      <td>NaN</td>\n",
       "      <td>NaN</td>\n",
       "      <td>NaN</td>\n",
       "    </tr>\n",
       "    <tr>\n",
       "      <th>19</th>\n",
       "      <td>spam</td>\n",
       "      <td>England v Macedonia - dont miss the goals/team...</td>\n",
       "      <td>NaN</td>\n",
       "      <td>NaN</td>\n",
       "      <td>NaN</td>\n",
       "    </tr>\n",
       "  </tbody>\n",
       "</table>\n",
       "</div>"
      ],
      "text/plain": [
       "      v1                                                 v2 Unnamed: 2  \\\n",
       "0    ham  Go until jurong point, crazy.. Available only ...        NaN   \n",
       "1    ham                      Ok lar... Joking wif u oni...        NaN   \n",
       "2   spam  Free entry in 2 a wkly comp to win FA Cup fina...        NaN   \n",
       "3    ham  U dun say so early hor... U c already then say...        NaN   \n",
       "4    ham  Nah I don't think he goes to usf, he lives aro...        NaN   \n",
       "5   spam  FreeMsg Hey there darling it's been 3 week's n...        NaN   \n",
       "6    ham  Even my brother is not like to speak with me. ...        NaN   \n",
       "7    ham  As per your request 'Melle Melle (Oru Minnamin...        NaN   \n",
       "8   spam  WINNER!! As a valued network customer you have...        NaN   \n",
       "9   spam  Had your mobile 11 months or more? U R entitle...        NaN   \n",
       "10   ham  I'm gonna be home soon and i don't want to tal...        NaN   \n",
       "11  spam  SIX chances to win CASH! From 100 to 20,000 po...        NaN   \n",
       "12  spam  URGENT! You have won a 1 week FREE membership ...        NaN   \n",
       "13   ham  I've been searching for the right words to tha...        NaN   \n",
       "14   ham                I HAVE A DATE ON SUNDAY WITH WILL!!        NaN   \n",
       "15  spam  XXXMobileMovieClub: To use your credit, click ...        NaN   \n",
       "16   ham                         Oh k...i'm watching here:)        NaN   \n",
       "17   ham  Eh u remember how 2 spell his name... Yes i di...        NaN   \n",
       "18   ham  Fine if thatåÕs the way u feel. ThatåÕs the wa...        NaN   \n",
       "19  spam  England v Macedonia - dont miss the goals/team...        NaN   \n",
       "\n",
       "   Unnamed: 3 Unnamed: 4  \n",
       "0         NaN        NaN  \n",
       "1         NaN        NaN  \n",
       "2         NaN        NaN  \n",
       "3         NaN        NaN  \n",
       "4         NaN        NaN  \n",
       "5         NaN        NaN  \n",
       "6         NaN        NaN  \n",
       "7         NaN        NaN  \n",
       "8         NaN        NaN  \n",
       "9         NaN        NaN  \n",
       "10        NaN        NaN  \n",
       "11        NaN        NaN  \n",
       "12        NaN        NaN  \n",
       "13        NaN        NaN  \n",
       "14        NaN        NaN  \n",
       "15        NaN        NaN  \n",
       "16        NaN        NaN  \n",
       "17        NaN        NaN  \n",
       "18        NaN        NaN  \n",
       "19        NaN        NaN  "
      ]
     },
     "execution_count": 2,
     "metadata": {},
     "output_type": "execute_result"
    }
   ],
   "source": [
    "df = pd.read_csv('spam.csv',delimiter=',',encoding='latin-1')\n",
    "# ISO/IEC 8859-1, https://ko.wikipedia.org/wiki/ISO/IEC_8859-1\n",
    "print(df.shape)\n",
    "print(df['v2'][0], df['v1'][0])\n",
    "df.head(20)"
   ]
  },
  {
   "cell_type": "markdown",
   "metadata": {},
   "source": [
    "### 불필요한 컬럼 삭제"
   ]
  },
  {
   "cell_type": "code",
   "execution_count": 3,
   "metadata": {},
   "outputs": [
    {
     "data": {
      "text/html": [
       "<div>\n",
       "<style scoped>\n",
       "    .dataframe tbody tr th:only-of-type {\n",
       "        vertical-align: middle;\n",
       "    }\n",
       "\n",
       "    .dataframe tbody tr th {\n",
       "        vertical-align: top;\n",
       "    }\n",
       "\n",
       "    .dataframe thead th {\n",
       "        text-align: right;\n",
       "    }\n",
       "</style>\n",
       "<table border=\"1\" class=\"dataframe\">\n",
       "  <thead>\n",
       "    <tr style=\"text-align: right;\">\n",
       "      <th></th>\n",
       "      <th>v1</th>\n",
       "      <th>v2</th>\n",
       "    </tr>\n",
       "  </thead>\n",
       "  <tbody>\n",
       "    <tr>\n",
       "      <th>0</th>\n",
       "      <td>ham</td>\n",
       "      <td>Go until jurong point, crazy.. Available only ...</td>\n",
       "    </tr>\n",
       "    <tr>\n",
       "      <th>1</th>\n",
       "      <td>ham</td>\n",
       "      <td>Ok lar... Joking wif u oni...</td>\n",
       "    </tr>\n",
       "    <tr>\n",
       "      <th>2</th>\n",
       "      <td>spam</td>\n",
       "      <td>Free entry in 2 a wkly comp to win FA Cup fina...</td>\n",
       "    </tr>\n",
       "    <tr>\n",
       "      <th>3</th>\n",
       "      <td>ham</td>\n",
       "      <td>U dun say so early hor... U c already then say...</td>\n",
       "    </tr>\n",
       "    <tr>\n",
       "      <th>4</th>\n",
       "      <td>ham</td>\n",
       "      <td>Nah I don't think he goes to usf, he lives aro...</td>\n",
       "    </tr>\n",
       "    <tr>\n",
       "      <th>5</th>\n",
       "      <td>spam</td>\n",
       "      <td>FreeMsg Hey there darling it's been 3 week's n...</td>\n",
       "    </tr>\n",
       "    <tr>\n",
       "      <th>6</th>\n",
       "      <td>ham</td>\n",
       "      <td>Even my brother is not like to speak with me. ...</td>\n",
       "    </tr>\n",
       "    <tr>\n",
       "      <th>7</th>\n",
       "      <td>ham</td>\n",
       "      <td>As per your request 'Melle Melle (Oru Minnamin...</td>\n",
       "    </tr>\n",
       "    <tr>\n",
       "      <th>8</th>\n",
       "      <td>spam</td>\n",
       "      <td>WINNER!! As a valued network customer you have...</td>\n",
       "    </tr>\n",
       "    <tr>\n",
       "      <th>9</th>\n",
       "      <td>spam</td>\n",
       "      <td>Had your mobile 11 months or more? U R entitle...</td>\n",
       "    </tr>\n",
       "    <tr>\n",
       "      <th>10</th>\n",
       "      <td>ham</td>\n",
       "      <td>I'm gonna be home soon and i don't want to tal...</td>\n",
       "    </tr>\n",
       "    <tr>\n",
       "      <th>11</th>\n",
       "      <td>spam</td>\n",
       "      <td>SIX chances to win CASH! From 100 to 20,000 po...</td>\n",
       "    </tr>\n",
       "    <tr>\n",
       "      <th>12</th>\n",
       "      <td>spam</td>\n",
       "      <td>URGENT! You have won a 1 week FREE membership ...</td>\n",
       "    </tr>\n",
       "    <tr>\n",
       "      <th>13</th>\n",
       "      <td>ham</td>\n",
       "      <td>I've been searching for the right words to tha...</td>\n",
       "    </tr>\n",
       "    <tr>\n",
       "      <th>14</th>\n",
       "      <td>ham</td>\n",
       "      <td>I HAVE A DATE ON SUNDAY WITH WILL!!</td>\n",
       "    </tr>\n",
       "    <tr>\n",
       "      <th>15</th>\n",
       "      <td>spam</td>\n",
       "      <td>XXXMobileMovieClub: To use your credit, click ...</td>\n",
       "    </tr>\n",
       "    <tr>\n",
       "      <th>16</th>\n",
       "      <td>ham</td>\n",
       "      <td>Oh k...i'm watching here:)</td>\n",
       "    </tr>\n",
       "    <tr>\n",
       "      <th>17</th>\n",
       "      <td>ham</td>\n",
       "      <td>Eh u remember how 2 spell his name... Yes i di...</td>\n",
       "    </tr>\n",
       "    <tr>\n",
       "      <th>18</th>\n",
       "      <td>ham</td>\n",
       "      <td>Fine if thatåÕs the way u feel. ThatåÕs the wa...</td>\n",
       "    </tr>\n",
       "    <tr>\n",
       "      <th>19</th>\n",
       "      <td>spam</td>\n",
       "      <td>England v Macedonia - dont miss the goals/team...</td>\n",
       "    </tr>\n",
       "  </tbody>\n",
       "</table>\n",
       "</div>"
      ],
      "text/plain": [
       "      v1                                                 v2\n",
       "0    ham  Go until jurong point, crazy.. Available only ...\n",
       "1    ham                      Ok lar... Joking wif u oni...\n",
       "2   spam  Free entry in 2 a wkly comp to win FA Cup fina...\n",
       "3    ham  U dun say so early hor... U c already then say...\n",
       "4    ham  Nah I don't think he goes to usf, he lives aro...\n",
       "5   spam  FreeMsg Hey there darling it's been 3 week's n...\n",
       "6    ham  Even my brother is not like to speak with me. ...\n",
       "7    ham  As per your request 'Melle Melle (Oru Minnamin...\n",
       "8   spam  WINNER!! As a valued network customer you have...\n",
       "9   spam  Had your mobile 11 months or more? U R entitle...\n",
       "10   ham  I'm gonna be home soon and i don't want to tal...\n",
       "11  spam  SIX chances to win CASH! From 100 to 20,000 po...\n",
       "12  spam  URGENT! You have won a 1 week FREE membership ...\n",
       "13   ham  I've been searching for the right words to tha...\n",
       "14   ham                I HAVE A DATE ON SUNDAY WITH WILL!!\n",
       "15  spam  XXXMobileMovieClub: To use your credit, click ...\n",
       "16   ham                         Oh k...i'm watching here:)\n",
       "17   ham  Eh u remember how 2 spell his name... Yes i di...\n",
       "18   ham  Fine if thatåÕs the way u feel. ThatåÕs the wa...\n",
       "19  spam  England v Macedonia - dont miss the goals/team..."
      ]
     },
     "execution_count": 3,
     "metadata": {},
     "output_type": "execute_result"
    }
   ],
   "source": [
    "df.drop(['Unnamed: 2','Unnamed: 3','Unnamed: 4'],axis=1,inplace=True)\n",
    "df.head(20)"
   ]
  },
  {
   "cell_type": "code",
   "execution_count": 4,
   "metadata": {},
   "outputs": [
    {
     "data": {
      "text/plain": [
       "ham     4825\n",
       "spam     747\n",
       "Name: v1, dtype: int64"
      ]
     },
     "execution_count": 4,
     "metadata": {},
     "output_type": "execute_result"
    }
   ],
   "source": [
    "df['v1'].value_counts()"
   ]
  },
  {
   "cell_type": "markdown",
   "metadata": {},
   "source": [
    "### 분포를 시각화"
   ]
  },
  {
   "cell_type": "code",
   "execution_count": 5,
   "metadata": {},
   "outputs": [
    {
     "data": {
      "text/plain": [
       "Text(0, 0.5, 'Number of ham and spam messages')"
      ]
     },
     "execution_count": 5,
     "metadata": {},
     "output_type": "execute_result"
    },
    {
     "data": {
      "image/png": "[encoded data removed]",
      "text/plain": [
       "<Figure size 432x288 with 1 Axes>"
      ]
     },
     "metadata": {
      "needs_background": "light"
     },
     "output_type": "display_data"
    }
   ],
   "source": [
    "sns.countplot(df.v1)\n",
    "plt.xlabel('Label')\n",
    "plt.ylabel('Number of ham and spam messages')"
   ]
  },
  {
   "cell_type": "markdown",
   "metadata": {},
   "source": [
    "### Y 값을 0, 1로 변환 : LabelEncoder()"
   ]
  },
  {
   "cell_type": "code",
   "execution_count": 6,
   "metadata": {},
   "outputs": [
    {
     "data": {
      "text/plain": [
       "(5572, 1)"
      ]
     },
     "execution_count": 6,
     "metadata": {},
     "output_type": "execute_result"
    }
   ],
   "source": [
    "X = df.v2\n",
    "Y = df.v1\n",
    "le = LabelEncoder()\n",
    "Y = le.fit_transform(Y)  # Y 값이 0(ham), 1(spam)로 변환, Logistic Regression, sigmoid사용\n",
    "Y = Y.reshape(-1,1)\n",
    "Y.shape  # (5572, 1)"
   ]
  },
  {
   "cell_type": "code",
   "execution_count": 7,
   "metadata": {},
   "outputs": [
    {
     "name": "stdout",
     "output_type": "stream",
     "text": [
      "(3900,) (1672,) (3900, 1) (1672, 1)\n"
     ]
    }
   ],
   "source": [
    "### train 과 test 데이터 셋으로 분리\n",
    "X_train, X_test, Y_train, Y_test = train_test_split(X,Y,test_size=0.3)  # 70%:30%\n",
    "print(X_train.shape, X_test.shape,Y_train.shape,Y_test.shape)"
   ]
  },
  {
   "cell_type": "markdown",
   "metadata": {},
   "source": [
    "### 문장을 토큰화 처리, 패딩, 데이터셋의 길이를 설정"
   ]
  },
  {
   "cell_type": "code",
   "execution_count": 8,
   "metadata": {},
   "outputs": [],
   "source": [
    "# https://www.tensorflow.org/api_docs/python/tf/keras/preprocessing/text/Tokenizer\n",
    "\n",
    "# tf.keras.preprocessing.text.Tokenizer(\n",
    "#     num_words=None, filters='!\"#$%&()*+,-./:;<=>?@[\\\\]^_`{|}~\\t\\n', lower=True,\n",
    "#     split=' ', char_level=False, oov_token=None, document_count=0, **kwargs\n",
    "# )"
   ]
  },
  {
   "cell_type": "code",
   "execution_count": 9,
   "metadata": {},
   "outputs": [
    {
     "name": "stdout",
     "output_type": "stream",
     "text": [
      "(3900, 150)\n",
      "7367\n"
     ]
    },
    {
     "data": {
      "text/plain": [
       "array([[  0,   0,   0, ...,  48,   5, 276],\n",
       "       [  0,   0,   0, ...,   3,   2,  13],\n",
       "       [  0,   0,   0, ..., 230, 138,   9],\n",
       "       ...,\n",
       "       [  0,   0,   0, ..., 196,   8, 685],\n",
       "       [  0,   0,   0, ..., 141, 137,  92],\n",
       "       [  0,   0,   0, ...,  46, 665,  50]])"
      ]
     },
     "execution_count": 9,
     "metadata": {},
     "output_type": "execute_result"
    }
   ],
   "source": [
    "# 토큰나이저를 시행하여 단어를 숫자값, 인덱스로 변환하여 저장\n",
    "\n",
    "max_words = 1000  # D, input_dim\n",
    "max_len = 150     # T, sequence_length, 한 문장의 길이, 데이터 셋의 길이\n",
    "\n",
    "tok = Tokenizer(num_words=max_words) # 가장 빈도가 높은 1000개의 단어들만 사용하여 토큰화\n",
    "\n",
    "# 단어 인덱스를 구축\n",
    "tok.fit_on_texts(X_train)  # 인덱스 범위 : 0 ~ 999\n",
    "\n",
    "# 문자열을 정수 인덱스의 리스트로 변환\n",
    "sequences = tok.texts_to_sequences(X_train) # type은 list\n",
    "sequences[:4]      # 길이가 서로 다름\n",
    "\n",
    "# 벡터 표현을 얻음\n",
    "sequences_matrix = sequence.pad_sequences(sequences,maxlen=max_len) # 신경망에 입력할 X값이다\n",
    "print(sequences_matrix.shape)  # (3900, 150), 2차원 행렬\n",
    "word_to_index = tok.word_index\n",
    "# print(word_to_index)\n",
    "\n",
    "vocab_size = len(word_to_index)\n",
    "print(vocab_size)\n",
    "\n",
    "sequences_matrix"
   ]
  },
  {
   "cell_type": "markdown",
   "metadata": {},
   "source": [
    "## RNN 신경망 모델 구현"
   ]
  },
  {
   "cell_type": "code",
   "execution_count": 10,
   "metadata": {},
   "outputs": [],
   "source": [
    "# https://www.tensorflow.org/api_docs/python/tf/keras/layers/Embedding\n",
    "# tf.keras.layers.Embedding(\n",
    "#     input_dim, output_dim, embeddings_initializer='uniform',\n",
    "#     embeddings_regularizer=None, activity_regularizer=None,\n",
    "#     embeddings_constraint=None, mask_zero=False, input_length=None, **kwargs\n",
    "# )\n",
    "\n",
    "# input_dim : input_dim   , V  , max_words : 1000\n",
    "# output_dim : hidden_size , D , 50\n",
    "# input_length : sequence_length , T : max_len:150"
   ]
  },
  {
   "cell_type": "code",
   "execution_count": 11,
   "metadata": {},
   "outputs": [
    {
     "name": "stdout",
     "output_type": "stream",
     "text": [
      "Model: \"sequential\"\n",
      "_________________________________________________________________\n",
      "Layer (type)                 Output Shape              Param #   \n",
      "=================================================================\n",
      "embedding (Embedding)        (None, 150, 50)           50000     \n",
      "_________________________________________________________________\n",
      "lstm (LSTM)                  (None, 150, 32)           10624     \n",
      "_________________________________________________________________\n",
      "dense (Dense)                (None, 150, 32)           1056      \n",
      "_________________________________________________________________\n",
      "dropout (Dropout)            (None, 150, 32)           0         \n",
      "_________________________________________________________________\n",
      "flatten (Flatten)            (None, 4800)              0         \n",
      "_________________________________________________________________\n",
      "dense_1 (Dense)              (None, 1)                 4801      \n",
      "=================================================================\n",
      "Total params: 66,481\n",
      "Trainable params: 66,481\n",
      "Non-trainable params: 0\n",
      "_________________________________________________________________\n"
     ]
    }
   ],
   "source": [
    "# LSTM 1층을 사용하여 신경망을 구현\n",
    "model = tf.keras.Sequential([\n",
    "    tf.keras.layers.Embedding(max_words,50,input_length=max_len), # X:(?,150) W:(1000,50)=(?,150,50)\n",
    "    tf.keras.layers.LSTM(32,return_sequences=True),  # (?,150,50) , W:(50,32) --> (?,150,32)\n",
    "    tf.keras.layers.Dense(32,activation='relu'),     # (?,150,32) , W: (32,32)  --> (?,150,32)\n",
    "    tf.keras.layers.Dropout(rate=0.5),                       # (?,150,32)\n",
    "    tf.keras.layers.Flatten(),                       # (?,150*32) --> (?,4800)\n",
    "    tf.keras.layers.Dense(1,activation='sigmoid')    # (?,4800), W:(4800,1) -->(?,1)\n",
    "])\n",
    "\n",
    "model.summary()"
   ]
  },
  {
   "cell_type": "code",
   "execution_count": 12,
   "metadata": {},
   "outputs": [],
   "source": [
    "model.compile(loss='binary_crossentropy',optimizer=RMSprop(),metrics=['accuracy'])\n",
    "# RMSProp : https://forensics.tistory.com/28\n",
    "# RMSprop 알고리즘은 Adadelta와 마찬가지로 Adagrad에서 학습률이 급격하게 감소하는 문제를 해결 "
   ]
  },
  {
   "cell_type": "code",
   "execution_count": 13,
   "metadata": {},
   "outputs": [
    {
     "name": "stdout",
     "output_type": "stream",
     "text": [
      "Train on 3120 samples, validate on 780 samples\n",
      "Epoch 1/10\n",
      "3120/3120 [==============================] - 10s 3ms/sample - loss: 0.4122 - accuracy: 0.8449 - val_loss: 0.3320 - val_accuracy: 0.8744\n",
      "Epoch 2/10\n",
      "3120/3120 [==============================] - 5s 2ms/sample - loss: 0.2256 - accuracy: 0.9061 - val_loss: 0.1209 - val_accuracy: 0.9667\n",
      "Epoch 3/10\n",
      "3120/3120 [==============================] - 6s 2ms/sample - loss: 0.0902 - accuracy: 0.9721 - val_loss: 0.0708 - val_accuracy: 0.9833\n",
      "Epoch 4/10\n",
      "3120/3120 [==============================] - 5s 2ms/sample - loss: 0.0578 - accuracy: 0.9830 - val_loss: 0.0554 - val_accuracy: 0.9859\n",
      "Epoch 5/10\n",
      "3120/3120 [==============================] - 5s 2ms/sample - loss: 0.0468 - accuracy: 0.9862 - val_loss: 0.0569 - val_accuracy: 0.9859\n",
      "Epoch 6/10\n",
      "3120/3120 [==============================] - 5s 2ms/sample - loss: 0.0361 - accuracy: 0.9904 - val_loss: 0.0583 - val_accuracy: 0.9846\n",
      "Epoch 7/10\n",
      "3120/3120 [==============================] - 5s 1ms/sample - loss: 0.0311 - accuracy: 0.9891 - val_loss: 0.0541 - val_accuracy: 0.9859\n",
      "Epoch 8/10\n",
      "3120/3120 [==============================] - 5s 2ms/sample - loss: 0.0214 - accuracy: 0.9939 - val_loss: 0.0753 - val_accuracy: 0.9846\n",
      "Epoch 9/10\n",
      "3120/3120 [==============================] - 5s 2ms/sample - loss: 0.0175 - accuracy: 0.9952 - val_loss: 0.0540 - val_accuracy: 0.9846\n",
      "Epoch 10/10\n",
      "3120/3120 [==============================] - 5s 2ms/sample - loss: 0.0163 - accuracy: 0.9946 - val_loss: 0.0634 - val_accuracy: 0.9821\n"
     ]
    },
    {
     "data": {
      "text/plain": [
       "<tensorflow.python.keras.callbacks.History at 0x1b455e9f0c8>"
      ]
     },
     "execution_count": 13,
     "metadata": {},
     "output_type": "execute_result"
    }
   ],
   "source": [
    "# 학습\n",
    "model.fit(sequences_matrix,Y_train,batch_size=128, epochs=10, validation_split=0.2)"
   ]
  },
  {
   "cell_type": "markdown",
   "metadata": {},
   "source": [
    "### 정확도 측정"
   ]
  },
  {
   "cell_type": "code",
   "execution_count": 14,
   "metadata": {},
   "outputs": [
    {
     "name": "stdout",
     "output_type": "stream",
     "text": [
      "(1672, 150) (1672, 1)\n"
     ]
    }
   ],
   "source": [
    "#  Test 데이터셋의 벡터를 구함\n",
    "\n",
    "# 문자열을 정수 인덱스의 리스트로 변환\n",
    "test_sequences = tok.texts_to_sequences(X_test) \n",
    "\n",
    "# 벡터 표현을 얻음\n",
    "test_sequences_matrix = sequence.pad_sequences(test_sequences, maxlen=max_len)  # 신경망에 입력할 X값이다\n",
    "print(test_sequences_matrix.shape,Y_test.shape)  # (1672, 150), 2차원 행렬"
   ]
  },
  {
   "cell_type": "code",
   "execution_count": 15,
   "metadata": {
    "collapsed": true
   },
   "outputs": [
    {
     "name": "stdout",
     "output_type": "stream",
     "text": [
      "\r",
      "1672/1 [================================================================================================================================================================================================================================================================================================================================================================================================================================================================================================================================================================================================================================================================================================================================================================================================================================================================================================================================================================================================================================================================================================================================================================================================================================================================================================================================================================================================================================================================================================================================================================================================================================================================================================================================================================================================================================================================================================================================================================================================================================================================================================================================================================================================================================================================================================================================================================================================================================================================================================================================================================================================================================================================================================================================================================================================================================================================================================================================================================================================================================================================================================================================================================================================================================================================================================================================================================================================================================================================================================================================================================================================================================================================================================================================================================================================================================================================================================================================================================================================================================================================================================================================================================================================================================================================================================================================================================================================================================================================================================================================================================================================================================================================================================================================================================================================================================================================================================================================================================================================================================================================================================================================================================================================================================================================================================================================================================================================================================================================================================================================================================================================================================================================================================================================================================================================================================================================================================================================================================================================================================================================================================================================================================================================================================================================================================================================================================================================================================================================================================================================================================================================================================================================================================================================================================================================================================================================================================================================================================================================================================================================================================================================================================================================================================================================================================================================================================================================================================================================================================================================================================================================================================================================================================================================================================================================================================================================================================================================================================================================================================================================================================================================================================================================================================================================================================================================================================================================================================================================================================================================================================================================================================================================================================================================================================================================================================================================================================================================================================================================================================================================================================================================================================================================================================================================================================================================================================================================================================================================================================================================================================================================================================================================================================================================================================================================================================================================================================================================================================================================================================================================================================================================================================================================================================================================================================================================================================================================================================================================================================================================================================================================================================================================================================================================================================================================================================================================================================================================================================================================================================================================================================================================================================================================================================================================================================================================================================================================================================================================================================================================================================================================================================================================================================================================================================================================================================================================================================================================================================================================================================================================================================================================================================================================================================================================================================================================================================================================================================================================================================================================================================================================================================================================================================================================================================================================================================================================================================================================================================================================================================================================================================================================================================================================================================================================================================================================================================================================================================================================================================================================================================================================================================================================================================================================================================================================================================================================================================================================================================================================================================================================================================================================================================================================================================================================================================================================================================================================================================================================================================================================================================================================================================================================================================================================================================================================================================================================================================================================================================================================================================================================================================================================================================================================================================================================================================================================================================================================================================================================================================================================================================================================================================================================================================================================================================================================================================================================================================================================================================================================================================================================================================================================================================================================================================================================================================================================================================================================================================================================================================================================================================================================================================================================================================================================================================================================================================================================================================================================================================================================================================================================================================================================================================================================================================================================================================================================================================================================================================================================================================================================================================================================================================================================================================================================================================================================================================================================================================================================================================================================================================================================================================================================================================================================================================================================================================================================================================================================================================================================================================================================================================================================================================================================================================================================================================================================================================================================================================================================================================================================================================================================================================================================================================================================================================================================================================================================================================================================================================================================================================================================================================================================================================================================================================================================================================================================================================================================================================================================================================================================================================================================================================================================================================================================================================================================================================================================================================================================================================================================================================================================================================================================================================================================================================================================================================================================================================================================================================================================================================================================================================================================================================================================================================================================================================================================================================================================================================================================================================================================================================================================================================================================================================================================================================================================================================================================================================================================================================================================================================================================================================================================================================================================================================================================================================================================================================================================================================================================================================================================================================================================================================================================================================================================================================================================================================================================================================================================================================================================================================================================================================================================================================================================================================================================================================================================================================================================================================================================================================================================================================================================================================================================================================================================================================================================================================================================================================================================================================================================================================================================================================================================================================================================================================================================================================================================================================================================================================================================================================================================================================================================================================================================================================================================================================================================================================================================================================================================================================================================================================================================================================================================================================================================================================================================================================================================================================================================================================================================================================================================================================================================================================================================================================================================================================================================================================================================================================================================================================================================================================================================================================================================================================================================================================================================================================================================================================================================================================================================================================================================================================================================================================================================================================================================================================================================================================================================================================================================================================================================================================================================================================================================================================================================================================================================================================================================================================================================================================================================================================================================================================================================================================================================================================================================================================================================================================================================================================================================================================================================================================================================================================================================================================================================================================================================================================================================================================================================================================================================================================================================================================================================================================================================================================================================================================================================================================================================================================================================================================================================================================================================================================================================================================================================================================================================================================================================================================================================================================================================================================================================================================================================================================================================================================================================================================================================================================================================================================================================================================================================================================================================================================================================================================================================================================================================================================================================================================================================================================================================================================================================================================================================================================================================================================================================================================================================================================================================================================================================================================================================================================================================================================================================================================================================================================================================================================================================================================================================================================================================================================================================================================================================================================================================================================================================================================================================================================================================================================================================================================================================================================================================================================================================================================================================================================================================================================================================================================================================================================================================================================================================================================================================================================================================================================================================================================================================================================================================================================================================================================================================================================================================================================================================================================================================================================================================================================================================================================================================================================================================================================================================================================================================================================================================================================================================================================================================================================================================================================================================================================================================================================================================================================================================================================================================================================================================================================================================================================================================================================================================================================================================================================================================================================================================================================================================================================================================================================================================================================================================================================================================================================================================================================================================================================================================================================================================================================================================================================================================================================================================================================================================================================================================================================================================================================================================================================================================================================================================================================================================================================================================================================================================================================================================================================================================================================================================================================================================================================================================================================================================================================================================================================================================================================================================================================================================================================================================================================================================================================================================================================================================================================================================================================================================================================================================================================================================================================================================================================================================================================================================================================================================================================================================================================================================================================================================================================================================================================================================================================================================================================================================================================================================================================================================================================================================================================================================================================================================================================================================================================================================================================================================================================================================================================================================================================================================================================================================================================================================================================================================================================================================================================================================================================================================================================================================================================================================================================================================================================================================================================================================================================================================================================================================================================================================================================================================================================================================================================================================================================================================================================================================================================================================================================================================================================================================================================================================================================================================================================================================================================================================================================================================================================================================================================================================================================================================================================================================================================================================================================================================================================================================================================================================================================================================================================================================================================================================================================================================================================================================================================================================================================================================================================================================================================================================================================================================================================================================================================================================================================================================================================================================================================================================================================================================================================================================================================================================================================================================================================================================================================================================================================================================================================================================================================================================================================================================================================================================================================================================================================================================================================================================================================================================================================================================================================================================================================================================================================================================================================================================================================================================================================================================================================================================================================================================================================================================================================================================================================================================================================================================================================================================================================================================================================================================================================================================================================================================================================================================================================================================================================================================================================================================================================================================================================================================================================================================================================================================================================================================================================================================================================================================================================================================================================================================================================================================================================================================================================================================================================================================================================================================================================================================================================================================================================================================================================================================================================================================================================================================================================================================================================================================================================================================================================================================================================================================================================================================================================================================================================================================================================================================================================================================================================================================================================================================================================================================================================================================================================================================================================================================================================================================================================================================================================================================================================================================================================================================================================================================================================================================================================================================================================================================================================================================================================================================================================================================================================================================================================================================================================================================================================================================================================================================================================================================================================================================================================================================================================================================================================================================================================================================================================================================================================================================================================================================================================================================================================================================================================================================================================================================================================================================================================================================================================================================================================================================================================================================================================================================================================================================================================================================================================================================================================================================================================================================================================================================================================================================================================================================================================================================================================================================================================================================================================================================================================================================================================================================================================================================================================================================================================================================================================================================================================================================================================================================================================================================================================================================================================================================================================================================================================================================================================================================================================================================================================================================================================================================================================================================================================================================================================================================================================================================================================================================================================================================================================================================================================================================================================================================================================================================================================================================================================================================================================================================================================================================================================================================================================================] - 1s 804us/sample - loss: 0.0407 - accuracy: 0.9827\n"
     ]
    }
   ],
   "source": [
    "# 정확도\n",
    "accr = model.evaluate(test_sequences_matrix,Y_test)"
   ]
  },
  {
   "cell_type": "code",
   "execution_count": 16,
   "metadata": {},
   "outputs": [
    {
     "name": "stdout",
     "output_type": "stream",
     "text": [
      "Test set\n",
      "  Loss: 0.075\n",
      "  Accuracy: 0.983\n"
     ]
    }
   ],
   "source": [
    "print('Test set\\n  Loss: {:0.3f}\\n  Accuracy: {:0.3f}'.format(accr[0],accr[1]))"
   ]
  },
  {
   "cell_type": "code",
   "execution_count": 17,
   "metadata": {},
   "outputs": [
    {
     "data": {
      "text/plain": [
       "(array([[0.99996793]], dtype=float32), array([1]))"
      ]
     },
     "execution_count": 17,
     "metadata": {},
     "output_type": "execute_result"
    }
   ],
   "source": [
    "# 예측\n",
    "preds = model.predict(test_sequences_matrix[1].reshape(1,-1)) # test_sequences_matrix[1]은 1차원이므로\n",
    "preds,Y_test[1]"
   ]
  },
  {
   "cell_type": "code",
   "execution_count": 18,
   "metadata": {},
   "outputs": [
    {
     "data": {
      "text/plain": [
       "array([  0,   0,   0,   0,   0,   0,   0,   0,   0,   0,   0,   0,   0,\n",
       "         0,   0,   0,   0,   0,   0,   0,   0,   0,   0,   0,   0,   0,\n",
       "         0,   0,   0,   0,   0,   0,   0,   0,   0,   0,   0,   0,   0,\n",
       "         0,   0,   0,   0,   0,   0,   0,   0,   0,   0,   0,   0,   0,\n",
       "         0,   0,   0,   0,   0,   0,   0,   0,   0,   0,   0,   0,   0,\n",
       "         0,   0,   0,   0,   0,   0,   0,   0,   0,   0,   0,   0,   0,\n",
       "         0,   0,   0,   0,   0,   0,   0,   0,   0,   0,   0,   0,   0,\n",
       "         0,   0,   0,   0,   0,   0,   0,   0,   0,   0,   0,   0,   0,\n",
       "         0,   0,   0,   0,   0,   0,   0,   0,   0,   0,   0,   0,   0,\n",
       "         0,   0,   0,   0,   0,   0,   0,   0,   0,   0,   0,   0,   0,\n",
       "         0,   0,   0,   0,   0, 192, 330, 124,  35,  14, 666,  82,  74,\n",
       "       607,   2,  22, 115, 167, 300, 262])"
      ]
     },
     "execution_count": 18,
     "metadata": {},
     "output_type": "execute_result"
    }
   ],
   "source": [
    "test_sequences_matrix[1]"
   ]
  },
  {
   "cell_type": "code",
   "execution_count": 19,
   "metadata": {},
   "outputs": [
    {
     "data": {
      "text/plain": [
       "(array([[0.00043936]], dtype=float32), array([0]))"
      ]
     },
     "execution_count": 19,
     "metadata": {},
     "output_type": "execute_result"
    }
   ],
   "source": [
    "preds = model.predict(test_sequences_matrix[17].reshape(1,-1)) \n",
    "preds,Y_test[17]"
   ]
  },
  {
   "cell_type": "code",
   "execution_count": 28,
   "metadata": {},
   "outputs": [
    {
     "data": {
      "text/plain": [
       "array([   0,    1,    2,   12,   22,   29,   36,   47,   54,   73,   82,\n",
       "         83,   89,  102,  112,  114,  115,  116,  117,  122,  141,  147,\n",
       "        156,  164,  169,  170,  171,  179,  202,  206,  209,  210,  231,\n",
       "        234,  237,  246,  252,  256,  269,  279,  288,  289,  297,  299,\n",
       "        302,  303,  314,  323,  325,  336,  338,  365,  367,  370,  378,\n",
       "        403,  404,  408,  423,  439,  449,  453,  474,  478,  493,  495,\n",
       "        496,  501,  506,  516,  527,  534,  537,  556,  561,  579,  582,\n",
       "        585,  586,  587,  593,  615,  620,  627,  628,  633,  640,  653,\n",
       "        663,  670,  672,  683,  698,  700,  718,  720,  721,  727,  732,\n",
       "        748,  749,  750,  752,  753,  760,  764,  766,  773,  775,  777,\n",
       "        786,  819,  820,  828,  833,  847,  860,  866,  877,  881,  900,\n",
       "        905,  911,  912,  922,  926,  929,  936,  937,  953,  959,  976,\n",
       "        978,  986, 1010, 1032, 1037, 1049, 1050, 1055, 1060, 1064, 1073,\n",
       "       1100, 1111, 1118, 1121, 1123, 1137, 1150, 1152, 1162, 1165, 1179,\n",
       "       1184, 1185, 1187, 1188, 1201, 1215, 1216, 1221, 1223, 1234, 1237,\n",
       "       1247, 1249, 1252, 1256, 1258, 1259, 1268, 1270, 1281, 1286, 1287,\n",
       "       1293, 1302, 1304, 1313, 1317, 1321, 1343, 1348, 1364, 1366, 1377,\n",
       "       1385, 1394, 1399, 1417, 1422, 1426, 1435, 1438, 1441, 1442, 1451,\n",
       "       1454, 1465, 1469, 1481, 1499, 1510, 1512, 1530, 1543, 1551, 1553,\n",
       "       1559, 1560, 1561, 1573, 1575, 1579, 1586, 1588, 1594, 1601, 1606,\n",
       "       1631, 1643, 1645, 1652, 1656], dtype=int64)"
      ]
     },
     "execution_count": 28,
     "metadata": {},
     "output_type": "execute_result"
    }
   ],
   "source": [
    "ones = np.where(Y_test==1)  # 답이 1인 인덱스\n",
    "ones[0]"
   ]
  },
  {
   "cell_type": "code",
   "execution_count": 23,
   "metadata": {},
   "outputs": [
    {
     "name": "stdout",
     "output_type": "stream",
     "text": [
      "[[0.9541601]] [1]\n",
      "[[0.99996793]] [1]\n",
      "[[0.9999999]] [1]\n",
      "[[0.9997558]] [1]\n",
      "[[0.99999964]] [1]\n",
      "[[0.99999905]] [1]\n",
      "[[1.]] [1]\n",
      "[[0.14292936]] [1]\n",
      "[[0.9999995]] [1]\n",
      "[[1.]] [1]\n",
      "[[0.99999964]] [1]\n",
      "[[0.99999976]] [1]\n",
      "[[0.9999907]] [1]\n",
      "[[0.9999987]] [1]\n",
      "[[0.9999982]] [1]\n",
      "[[0.99996245]] [1]\n",
      "[[0.0497096]] [1]\n",
      "[[0.99999416]] [1]\n",
      "[[0.00032576]] [1]\n",
      "[[0.9999516]] [1]\n",
      "[[0.9999995]] [1]\n",
      "[[0.9999999]] [1]\n",
      "[[0.9769448]] [1]\n",
      "[[0.99992454]] [1]\n",
      "[[0.99998236]] [1]\n",
      "[[0.9999045]] [1]\n",
      "[[0.9961373]] [1]\n",
      "[[0.99999535]] [1]\n",
      "[[0.9485208]] [1]\n",
      "[[0.99999607]] [1]\n",
      "[[1.]] [1]\n",
      "[[0.9999999]] [1]\n",
      "[[0.9999962]] [1]\n",
      "[[0.99984384]] [1]\n",
      "[[0.9684488]] [1]\n",
      "[[0.10913521]] [1]\n",
      "[[0.99999046]] [1]\n",
      "[[0.99992585]] [1]\n",
      "[[0.9999566]] [1]\n",
      "[[0.99999666]] [1]\n",
      "[[0.9980038]] [1]\n",
      "[[1.733705e-05]] [1]\n",
      "[[0.9999982]] [1]\n",
      "[[0.9999976]] [1]\n",
      "[[0.99999976]] [1]\n",
      "[[0.9997609]] [1]\n",
      "[[0.9999962]] [1]\n",
      "[[0.09292067]] [1]\n",
      "[[0.99697614]] [1]\n",
      "[[0.9999993]] [1]\n",
      "[[0.9999994]] [1]\n",
      "[[0.999987]] [1]\n",
      "[[0.9999999]] [1]\n",
      "[[1.]] [1]\n",
      "[[0.9999927]] [1]\n",
      "[[0.99835783]] [1]\n",
      "[[0.99999857]] [1]\n",
      "[[0.9998344]] [1]\n",
      "[[0.99999094]] [1]\n",
      "[[0.99999857]] [1]\n",
      "[[0.9999994]] [1]\n",
      "[[0.99999976]] [1]\n",
      "[[0.99989927]] [1]\n",
      "[[0.799466]] [1]\n",
      "[[0.00012414]] [1]\n",
      "[[0.9082646]] [1]\n",
      "[[0.07184476]] [1]\n",
      "[[0.9999987]] [1]\n",
      "[[0.9991941]] [1]\n",
      "[[0.9082646]] [1]\n",
      "[[0.9999999]] [1]\n",
      "[[0.00094013]] [1]\n",
      "[[0.9999999]] [1]\n",
      "[[0.9999995]] [1]\n",
      "[[0.99999964]] [1]\n",
      "[[0.99997354]] [1]\n",
      "[[0.00067506]] [1]\n",
      "[[1.]] [1]\n",
      "[[0.9994869]] [1]\n",
      "[[0.99993205]] [1]\n",
      "[[1.]] [1]\n",
      "[[0.99999976]] [1]\n",
      "[[1.]] [1]\n",
      "[[0.9998803]] [1]\n",
      "[[0.9999989]] [1]\n",
      "[[0.01530422]] [1]\n",
      "[[0.99999976]] [1]\n",
      "[[1.]] [1]\n",
      "[[0.9989021]] [1]\n",
      "[[1.]] [1]\n",
      "[[0.9537929]] [1]\n",
      "[[0.9999995]] [1]\n",
      "[[0.99999785]] [1]\n",
      "[[0.99999607]] [1]\n",
      "[[0.99987674]] [1]\n",
      "[[0.99987674]] [1]\n",
      "[[0.9961844]] [1]\n",
      "[[0.9986279]] [1]\n",
      "[[0.9999045]] [1]\n",
      "[[0.99958235]] [1]\n",
      "[[0.9961373]] [1]\n",
      "[[0.9999927]] [1]\n",
      "[[0.99999535]] [1]\n",
      "[[0.99665326]] [1]\n",
      "[[0.9980301]] [1]\n",
      "[[0.9999999]] [1]\n",
      "[[0.9999981]] [1]\n",
      "[[0.9999999]] [1]\n",
      "[[0.9999999]] [1]\n",
      "[[0.99999535]] [1]\n",
      "[[0.9999969]] [1]\n",
      "[[0.999967]] [1]\n",
      "[[0.99980015]] [1]\n",
      "[[0.93889606]] [1]\n",
      "[[0.9961373]] [1]\n",
      "[[0.99999905]] [1]\n",
      "[[0.9995254]] [1]\n",
      "[[0.9999919]] [1]\n",
      "[[0.99959415]] [1]\n",
      "[[0.99999774]] [1]\n",
      "[[0.41296485]] [1]\n",
      "[[0.9999968]] [1]\n",
      "[[0.99995375]] [1]\n",
      "[[0.9999715]] [1]\n",
      "[[0.99999774]] [1]\n",
      "[[0.99999976]] [1]\n",
      "[[0.9992015]] [1]\n",
      "[[0.9999999]] [1]\n",
      "[[1.]] [1]\n",
      "[[0.8143817]] [1]\n",
      "[[1.]] [1]\n",
      "[[0.99969614]] [1]\n",
      "[[0.9999995]] [1]\n",
      "[[0.6225998]] [1]\n",
      "[[0.9999994]] [1]\n",
      "[[0.9992512]] [1]\n",
      "[[1.]] [1]\n",
      "[[1.]] [1]\n",
      "[[0.99772316]] [1]\n",
      "[[0.9892945]] [1]\n",
      "[[0.9991289]] [1]\n",
      "[[1.]] [1]\n",
      "[[0.99392396]] [1]\n",
      "[[0.9999995]] [1]\n",
      "[[0.99999785]] [1]\n",
      "[[1.]] [1]\n",
      "[[0.8185325]] [1]\n",
      "[[0.00032181]] [1]\n",
      "[[0.7597585]] [1]\n",
      "[[0.9999945]] [1]\n",
      "[[1.]] [1]\n",
      "[[0.99994326]] [1]\n",
      "[[0.9302705]] [1]\n",
      "[[0.9999976]] [1]\n",
      "[[0.17725308]] [1]\n",
      "[[0.99999964]] [1]\n",
      "[[0.9996099]] [1]\n",
      "[[1.]] [1]\n",
      "[[0.9997993]] [1]\n",
      "[[0.999995]] [1]\n",
      "[[0.9999994]] [1]\n",
      "[[0.99999976]] [1]\n",
      "[[0.94717395]] [1]\n",
      "[[0.19648677]] [1]\n",
      "[[0.9999819]] [1]\n",
      "[[0.9992459]] [1]\n",
      "[[0.9999999]] [1]\n",
      "[[0.99999774]] [1]\n",
      "[[0.5949069]] [1]\n",
      "[[0.99999976]] [1]\n",
      "[[1.]] [1]\n",
      "[[1.]] [1]\n",
      "[[0.999926]] [1]\n",
      "[[0.9999442]] [1]\n",
      "[[0.9999871]] [1]\n",
      "[[0.9844365]] [1]\n",
      "[[0.9999888]] [1]\n",
      "[[0.99999833]] [1]\n",
      "[[0.9999981]] [1]\n",
      "[[0.99999964]] [1]\n",
      "[[1.]] [1]\n",
      "[[0.99999714]] [1]\n",
      "[[1.]] [1]\n",
      "[[0.99745315]] [1]\n",
      "[[0.999861]] [1]\n",
      "[[0.9999999]] [1]\n",
      "[[0.00806755]] [1]\n",
      "[[0.9995048]] [1]\n",
      "[[0.99999404]] [1]\n",
      "[[0.999464]] [1]\n",
      "[[0.9987919]] [1]\n",
      "[[0.99999833]] [1]\n",
      "[[0.9940485]] [1]\n",
      "[[0.9999999]] [1]\n",
      "[[1.]] [1]\n",
      "[[0.9999994]] [1]\n",
      "[[0.9999995]] [1]\n",
      "[[1.]] [1]\n",
      "[[0.9999566]] [1]\n",
      "[[0.9999999]] [1]\n",
      "[[1.]] [1]\n",
      "[[0.99949825]] [1]\n",
      "[[0.9970137]] [1]\n",
      "[[0.6225998]] [1]\n",
      "[[0.9082646]] [1]\n",
      "[[1.]] [1]\n",
      "[[0.99999905]] [1]\n",
      "[[0.98943555]] [1]\n",
      "[[0.00874361]] [1]\n",
      "[[0.99999964]] [1]\n",
      "[[0.9999995]] [1]\n",
      "[[1.]] [1]\n",
      "[[0.05158377]] [1]\n",
      "[[0.9999999]] [1]\n",
      "[[0.7439029]] [1]\n",
      "[[0.03215516]] [1]\n",
      "[[0.9999815]] [1]\n",
      "[[0.9939135]] [1]\n",
      "[[0.9999968]] [1]\n",
      "[[0.99814165]] [1]\n",
      "[[0.99993074]] [1]\n",
      "[[0.9999995]] [1]\n",
      "[[0.9873986]] [1]\n",
      "[[0.9538817]] [1]\n",
      "[[0.99999857]] [1]\n"
     ]
    }
   ],
   "source": [
    "for one in ones[0]:\n",
    "    preds = model.predict(test_sequences_matrix[one].reshape(1,-1))\n",
    "    print(preds,Y_test[one])"
   ]
  },
  {
   "cell_type": "code",
   "execution_count": null,
   "metadata": {},
   "outputs": [],
   "source": []
  }
 ],
 "metadata": {
  "kernelspec": {
   "display_name": "Python 3",
   "language": "python",
   "name": "python3"
  },
  "language_info": {
   "codemirror_mode": {
    "name": "ipython",
    "version": 3
   },
   "file_extension": ".py",
   "mimetype": "text/x-python",
   "name": "python",
   "nbconvert_exporter": "python",
   "pygments_lexer": "ipython3",
   "version": "3.7.7"
  }
 },
 "nbformat": 4,
 "nbformat_minor": 4
}
